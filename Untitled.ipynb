{
 "cells": [
  {
   "cell_type": "markdown",
   "id": "b229ffe1",
   "metadata": {},
   "source": [
    "# Importing the Libraries\n",
    "***"
   ]
  },
  {
   "cell_type": "code",
   "execution_count": 5,
   "id": "131e4005",
   "metadata": {},
   "outputs": [],
   "source": [
    "import numpy as np\n",
    "import pandas as pd\n",
    "import matplotlib.pyplot as plt\n",
    "import seaborn as sns"
   ]
  },
  {
   "cell_type": "markdown",
   "id": "a422fe5e",
   "metadata": {},
   "source": [
    "***"
   ]
  },
  {
   "cell_type": "markdown",
   "id": "2a038b5f",
   "metadata": {},
   "source": [
    "# The Bangalore Dataset has been downloaded from [Kaggle](https://www.kaggle.com/amitabhajoy/bengaluru-house-price-data)"
   ]
  },
  {
   "cell_type": "markdown",
   "id": "4e428902",
   "metadata": {},
   "source": [
    "# Problem Definition : \n",
    "***\n",
    "### By analyzing this bangalore house data we'll predict the prices of the house data entered "
   ]
  },
  {
   "cell_type": "code",
   "execution_count": null,
   "id": "fcedb23b",
   "metadata": {},
   "outputs": [],
   "source": []
  }
 ],
 "metadata": {
  "kernelspec": {
   "display_name": "Python 3",
   "language": "python",
   "name": "python3"
  },
  "language_info": {
   "codemirror_mode": {
    "name": "ipython",
    "version": 3
   },
   "file_extension": ".py",
   "mimetype": "text/x-python",
   "name": "python",
   "nbconvert_exporter": "python",
   "pygments_lexer": "ipython3",
   "version": "3.9.5"
  }
 },
 "nbformat": 4,
 "nbformat_minor": 5
}
